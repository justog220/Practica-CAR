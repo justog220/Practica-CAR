{
 "cells": [
  {
   "cell_type": "code",
   "execution_count": 60,
   "metadata": {},
   "outputs": [],
   "source": [
    "import os\n",
    "import pandas as pd\n",
    "import seaborn as sns\n",
    "import matplotlib.pyplot as plt"
   ]
  },
  {
   "cell_type": "code",
   "execution_count": 61,
   "metadata": {},
   "outputs": [
    {
     "data": {
      "text/plain": [
       "['n16.dat',\n",
       " 'n2.csv',\n",
       " 'n8.csv',\n",
       " 'n22.dat',\n",
       " 'n16.csv',\n",
       " 'n8.dat',\n",
       " 'n2.dat',\n",
       " 'n4.dat',\n",
       " 'n22.csv',\n",
       " 'n4.csv']"
      ]
     },
     "execution_count": 61,
     "metadata": {},
     "output_type": "execute_result"
    }
   ],
   "source": [
    "carpeta = \"salida\"\n",
    "archivos = os.listdir(carpeta)\n",
    "archivos"
   ]
  },
  {
   "cell_type": "code",
   "execution_count": 62,
   "metadata": {},
   "outputs": [
    {
     "data": {
      "text/plain": [
       "[['16', 'n16.dat'],\n",
       " ['22', 'n22.dat'],\n",
       " ['8', 'n8.dat'],\n",
       " ['2', 'n2.dat'],\n",
       " ['4', 'n4.dat']]"
      ]
     },
     "execution_count": 62,
     "metadata": {},
     "output_type": "execute_result"
    }
   ],
   "source": [
    "archivos = [i for i in archivos if \"dat\" in i]\n",
    "lista = [[i.split(sep='.')[0].split(sep='n')[-1], i] for i in archivos]\n",
    "\n",
    "lista"
   ]
  },
  {
   "cell_type": "code",
   "execution_count": 63,
   "metadata": {},
   "outputs": [],
   "source": [
    "for i in lista:\n",
    "    with open(carpeta+\"/\"+i[1], \"r\") as archi:\n",
    "        lineas = archi.readlines()\n",
    "\n",
    "    lineasCsv = []\n",
    "    start = False\n",
    "    for linea in lineas:\n",
    "        if start:\n",
    "            lineasCsv.append(linea)\n",
    "        else:\n",
    "            if \"Broadcast\" in linea:\n",
    "                start = True\n",
    "                lineasCsv.append(linea)\n",
    "    \n",
    "    with open(carpeta+\"/\"+i[1].split(sep=\".\")[0]+\".csv\", \"w\") as archi:\n",
    "        archi.writelines(lineasCsv)\n",
    "        archi.flush()\n",
    "\n",
    "    i[1] = i[1].split(sep=\".\")[0]+\".csv\""
   ]
  },
  {
   "cell_type": "code",
   "execution_count": 64,
   "metadata": {},
   "outputs": [],
   "source": [
    "dfGeneral = pd.DataFrame(columns=[\"Broadcast\", \"Tiempo\", \"Nro Procesadores\"])\n",
    "for i in lista:\n",
    "    df = pd.read_csv(carpeta+\"/\"+i[1])\n",
    "    dfGeneral = pd.concat([dfGeneral, df])\n",
    "    # for _, row in df.iterrows():\n",
    "    #     # dfGeneral = dfGeneral.append(row, ignore_index=True)\n",
    "    #     dfGeneral = pd.concat([dfGeneral, pd.DataFrame(row, index=[0])], ignore_index=True)\n"
   ]
  },
  {
   "cell_type": "code",
   "execution_count": 65,
   "metadata": {},
   "outputs": [
    {
     "data": {
      "text/html": [
       "<div>\n",
       "<style scoped>\n",
       "    .dataframe tbody tr th:only-of-type {\n",
       "        vertical-align: middle;\n",
       "    }\n",
       "\n",
       "    .dataframe tbody tr th {\n",
       "        vertical-align: top;\n",
       "    }\n",
       "\n",
       "    .dataframe thead th {\n",
       "        text-align: right;\n",
       "    }\n",
       "</style>\n",
       "<table border=\"1\" class=\"dataframe\">\n",
       "  <thead>\n",
       "    <tr style=\"text-align: right;\">\n",
       "      <th></th>\n",
       "      <th>Broadcast</th>\n",
       "      <th>Tiempo</th>\n",
       "      <th>Nro Procesadores</th>\n",
       "    </tr>\n",
       "  </thead>\n",
       "  <tbody>\n",
       "    <tr>\n",
       "      <th>0</th>\n",
       "      <td>Punto a punto</td>\n",
       "      <td>0.149922</td>\n",
       "      <td>2</td>\n",
       "    </tr>\n",
       "    <tr>\n",
       "      <th>1</th>\n",
       "      <td>Arbol</td>\n",
       "      <td>0.126187</td>\n",
       "      <td>2</td>\n",
       "    </tr>\n",
       "    <tr>\n",
       "      <th>2</th>\n",
       "      <td>MPICH</td>\n",
       "      <td>0.128695</td>\n",
       "      <td>2</td>\n",
       "    </tr>\n",
       "    <tr>\n",
       "      <th>0</th>\n",
       "      <td>Punto a punto</td>\n",
       "      <td>0.447509</td>\n",
       "      <td>4</td>\n",
       "    </tr>\n",
       "    <tr>\n",
       "      <th>1</th>\n",
       "      <td>Arbol</td>\n",
       "      <td>0.260883</td>\n",
       "      <td>4</td>\n",
       "    </tr>\n",
       "    <tr>\n",
       "      <th>2</th>\n",
       "      <td>MPICH</td>\n",
       "      <td>0.133660</td>\n",
       "      <td>4</td>\n",
       "    </tr>\n",
       "    <tr>\n",
       "      <th>0</th>\n",
       "      <td>Punto a punto</td>\n",
       "      <td>1.035972</td>\n",
       "      <td>8</td>\n",
       "    </tr>\n",
       "    <tr>\n",
       "      <th>1</th>\n",
       "      <td>Arbol</td>\n",
       "      <td>0.391319</td>\n",
       "      <td>8</td>\n",
       "    </tr>\n",
       "    <tr>\n",
       "      <th>2</th>\n",
       "      <td>MPICH</td>\n",
       "      <td>0.139094</td>\n",
       "      <td>8</td>\n",
       "    </tr>\n",
       "    <tr>\n",
       "      <th>0</th>\n",
       "      <td>Punto a punto</td>\n",
       "      <td>2.201967</td>\n",
       "      <td>16</td>\n",
       "    </tr>\n",
       "    <tr>\n",
       "      <th>1</th>\n",
       "      <td>Arbol</td>\n",
       "      <td>0.521772</td>\n",
       "      <td>16</td>\n",
       "    </tr>\n",
       "    <tr>\n",
       "      <th>2</th>\n",
       "      <td>MPICH</td>\n",
       "      <td>0.133734</td>\n",
       "      <td>16</td>\n",
       "    </tr>\n",
       "    <tr>\n",
       "      <th>0</th>\n",
       "      <td>Punto a punto</td>\n",
       "      <td>2.952391</td>\n",
       "      <td>22</td>\n",
       "    </tr>\n",
       "    <tr>\n",
       "      <th>1</th>\n",
       "      <td>Arbol</td>\n",
       "      <td>0.504467</td>\n",
       "      <td>22</td>\n",
       "    </tr>\n",
       "    <tr>\n",
       "      <th>2</th>\n",
       "      <td>MPICH</td>\n",
       "      <td>0.132153</td>\n",
       "      <td>22</td>\n",
       "    </tr>\n",
       "  </tbody>\n",
       "</table>\n",
       "</div>"
      ],
      "text/plain": [
       "       Broadcast    Tiempo Nro Procesadores\n",
       "0  Punto a punto  0.149922                2\n",
       "1          Arbol  0.126187                2\n",
       "2          MPICH  0.128695                2\n",
       "0  Punto a punto  0.447509                4\n",
       "1          Arbol  0.260883                4\n",
       "2          MPICH  0.133660                4\n",
       "0  Punto a punto  1.035972                8\n",
       "1          Arbol  0.391319                8\n",
       "2          MPICH  0.139094                8\n",
       "0  Punto a punto  2.201967               16\n",
       "1          Arbol  0.521772               16\n",
       "2          MPICH  0.133734               16\n",
       "0  Punto a punto  2.952391               22\n",
       "1          Arbol  0.504467               22\n",
       "2          MPICH  0.132153               22"
      ]
     },
     "execution_count": 65,
     "metadata": {},
     "output_type": "execute_result"
    }
   ],
   "source": [
    "dfGeneral = dfGeneral.sort_values(by=\"Nro Procesadores\")\n",
    "dfGeneral"
   ]
  },
  {
   "cell_type": "code",
   "execution_count": 69,
   "metadata": {},
   "outputs": [
    {
     "data": {
      "image/png": "[encoded data removed]",
      "text/plain": [
       "<Figure size 640x480 with 1 Axes>"
      ]
     },
     "metadata": {},
     "output_type": "display_data"
    }
   ],
   "source": [
    "sns.barplot(dfGeneral, x=\"Broadcast\", y=\"Tiempo\", hue=\"Nro Procesadores\")\n",
    "plt.xlabel(\"Tipo de broadcast\")\n",
    "plt.ylabel(\"Tiempo (segundos)\")\n",
    "plt.title(\"Grafico de barra de los tiempos para distintos tipos de broadcasts\")\n",
    "plt.savefig(\"salida/salida.png\")\n",
    "plt.show()"
   ]
  },
  {
   "cell_type": "code",
   "execution_count": null,
   "metadata": {},
   "outputs": [],
   "source": []
  }
 ],
 "metadata": {
  "kernelspec": {
   "display_name": "Python 3",
   "language": "python",
   "name": "python3"
  },
  "language_info": {
   "codemirror_mode": {
    "name": "ipython",
    "version": 3
   },
   "file_extension": ".py",
   "mimetype": "text/x-python",
   "name": "python",
   "nbconvert_exporter": "python",
   "pygments_lexer": "ipython3",
   "version": "3.10.12"
  }
 },
 "nbformat": 4,
 "nbformat_minor": 2
}
