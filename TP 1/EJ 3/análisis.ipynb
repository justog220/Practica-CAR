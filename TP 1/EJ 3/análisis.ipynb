{
 "cells": [
  {
   "cell_type": "code",
   "execution_count": 1,
   "metadata": {},
   "outputs": [],
   "source": [
    "import pandas as pd"
   ]
  },
  {
   "cell_type": "code",
   "execution_count": 4,
   "metadata": {},
   "outputs": [],
   "source": [
    "df = pd.read_csv(\"salida.csv\")\n",
    "prom = {}\n",
    "for _, row in df.iterrows():\n",
    "    if not (row[\"Numero de procesadores\"] in prom.keys()):\n",
    "        prom[row[\"Numero de procesadores\"]] = float(row[\"Tiempo\"])\n",
    "    else:\n",
    "        prom[row[\"Numero de procesadores\"]] += float(row[\"Tiempo\"])\n",
    "\n"
   ]
  },
  {
   "cell_type": "code",
   "execution_count": 5,
   "metadata": {},
   "outputs": [
    {
     "data": {
      "text/plain": [
       "{2.0: 9.559958,\n",
       " 4.0: 11.926534999999998,\n",
       " 6.0: 15.218827,\n",
       " 8.0: 13.714449,\n",
       " 10.0: 16.724229,\n",
       " 12.0: 15.613510999999997,\n",
       " 14.0: 16.713822999999998,\n",
       " 16.0: 17.14575,\n",
       " 18.0: 17.204856000000003,\n",
       " 20.0: 17.668103}"
      ]
     },
     "execution_count": 5,
     "metadata": {},
     "output_type": "execute_result"
    }
   ],
   "source": [
    "prom"
   ]
  },
  {
   "cell_type": "code",
   "execution_count": 6,
   "metadata": {},
   "outputs": [
    {
     "data": {
      "text/html": [
       "<div>\n",
       "<style scoped>\n",
       "    .dataframe tbody tr th:only-of-type {\n",
       "        vertical-align: middle;\n",
       "    }\n",
       "\n",
       "    .dataframe tbody tr th {\n",
       "        vertical-align: top;\n",
       "    }\n",
       "\n",
       "    .dataframe thead th {\n",
       "        text-align: right;\n",
       "    }\n",
       "</style>\n",
       "<table border=\"1\" class=\"dataframe\">\n",
       "  <thead>\n",
       "    <tr style=\"text-align: right;\">\n",
       "      <th></th>\n",
       "      <th>Numero de procesadores</th>\n",
       "      <th>Tiempo</th>\n",
       "    </tr>\n",
       "  </thead>\n",
       "  <tbody>\n",
       "    <tr>\n",
       "      <th>0</th>\n",
       "      <td>2.0</td>\n",
       "      <td>0.095600</td>\n",
       "    </tr>\n",
       "    <tr>\n",
       "      <th>1</th>\n",
       "      <td>4.0</td>\n",
       "      <td>0.119265</td>\n",
       "    </tr>\n",
       "    <tr>\n",
       "      <th>2</th>\n",
       "      <td>6.0</td>\n",
       "      <td>0.152188</td>\n",
       "    </tr>\n",
       "    <tr>\n",
       "      <th>3</th>\n",
       "      <td>8.0</td>\n",
       "      <td>0.137144</td>\n",
       "    </tr>\n",
       "    <tr>\n",
       "      <th>4</th>\n",
       "      <td>10.0</td>\n",
       "      <td>0.167242</td>\n",
       "    </tr>\n",
       "    <tr>\n",
       "      <th>5</th>\n",
       "      <td>12.0</td>\n",
       "      <td>0.156135</td>\n",
       "    </tr>\n",
       "    <tr>\n",
       "      <th>6</th>\n",
       "      <td>14.0</td>\n",
       "      <td>0.167138</td>\n",
       "    </tr>\n",
       "    <tr>\n",
       "      <th>7</th>\n",
       "      <td>16.0</td>\n",
       "      <td>0.171457</td>\n",
       "    </tr>\n",
       "    <tr>\n",
       "      <th>8</th>\n",
       "      <td>18.0</td>\n",
       "      <td>0.172049</td>\n",
       "    </tr>\n",
       "    <tr>\n",
       "      <th>9</th>\n",
       "      <td>20.0</td>\n",
       "      <td>0.176681</td>\n",
       "    </tr>\n",
       "  </tbody>\n",
       "</table>\n",
       "</div>"
      ],
      "text/plain": [
       "   Numero de procesadores    Tiempo\n",
       "0                     2.0  0.095600\n",
       "1                     4.0  0.119265\n",
       "2                     6.0  0.152188\n",
       "3                     8.0  0.137144\n",
       "4                    10.0  0.167242\n",
       "5                    12.0  0.156135\n",
       "6                    14.0  0.167138\n",
       "7                    16.0  0.171457\n",
       "8                    18.0  0.172049\n",
       "9                    20.0  0.176681"
      ]
     },
     "execution_count": 6,
     "metadata": {},
     "output_type": "execute_result"
    }
   ],
   "source": [
    "dfProm = pd.DataFrame(\n",
    "{\"Numero de procesadores\" : prom.keys(),\n",
    "\"Tiempo\" : prom.values()\n",
    "}\n",
    ")\n",
    "dfProm[\"Tiempo\"] = dfProm[\"Tiempo\"] / (len(df[\"Numero de procesadores\"]/len(dfProm[\"Numero de procesadores\"])))\n",
    "dfProm\n"
   ]
  },
  {
   "cell_type": "code",
   "execution_count": 9,
   "metadata": {},
   "outputs": [
    {
     "data": {
      "text/html": [
       "<div>\n",
       "<style scoped>\n",
       "    .dataframe tbody tr th:only-of-type {\n",
       "        vertical-align: middle;\n",
       "    }\n",
       "\n",
       "    .dataframe tbody tr th {\n",
       "        vertical-align: top;\n",
       "    }\n",
       "\n",
       "    .dataframe thead th {\n",
       "        text-align: right;\n",
       "    }\n",
       "</style>\n",
       "<table border=\"1\" class=\"dataframe\">\n",
       "  <thead>\n",
       "    <tr style=\"text-align: right;\">\n",
       "      <th></th>\n",
       "      <th>Numero de procesadores</th>\n",
       "      <th>Tiempo</th>\n",
       "      <th>Velocidad</th>\n",
       "      <th>b</th>\n",
       "    </tr>\n",
       "  </thead>\n",
       "  <tbody>\n",
       "    <tr>\n",
       "      <th>0</th>\n",
       "      <td>2.0</td>\n",
       "      <td>0.095600</td>\n",
       "      <td>29288.831604</td>\n",
       "      <td>29288.831604</td>\n",
       "    </tr>\n",
       "    <tr>\n",
       "      <th>1</th>\n",
       "      <td>4.0</td>\n",
       "      <td>0.119265</td>\n",
       "      <td>46954.123725</td>\n",
       "      <td>23477.061862</td>\n",
       "    </tr>\n",
       "    <tr>\n",
       "      <th>2</th>\n",
       "      <td>6.0</td>\n",
       "      <td>0.152188</td>\n",
       "      <td>55194.792608</td>\n",
       "      <td>18398.264203</td>\n",
       "    </tr>\n",
       "    <tr>\n",
       "      <th>3</th>\n",
       "      <td>8.0</td>\n",
       "      <td>0.137144</td>\n",
       "      <td>81665.694334</td>\n",
       "      <td>20416.423584</td>\n",
       "    </tr>\n",
       "    <tr>\n",
       "      <th>4</th>\n",
       "      <td>10.0</td>\n",
       "      <td>0.167242</td>\n",
       "      <td>83710.884370</td>\n",
       "      <td>16742.176874</td>\n",
       "    </tr>\n",
       "    <tr>\n",
       "      <th>5</th>\n",
       "      <td>12.0</td>\n",
       "      <td>0.156135</td>\n",
       "      <td>107599.117200</td>\n",
       "      <td>17933.186200</td>\n",
       "    </tr>\n",
       "    <tr>\n",
       "      <th>6</th>\n",
       "      <td>14.0</td>\n",
       "      <td>0.167138</td>\n",
       "      <td>117268.203690</td>\n",
       "      <td>16752.600527</td>\n",
       "    </tr>\n",
       "    <tr>\n",
       "      <th>7</th>\n",
       "      <td>16.0</td>\n",
       "      <td>0.171457</td>\n",
       "      <td>130644.620387</td>\n",
       "      <td>16330.577548</td>\n",
       "    </tr>\n",
       "    <tr>\n",
       "      <th>8</th>\n",
       "      <td>18.0</td>\n",
       "      <td>0.172049</td>\n",
       "      <td>146470.275601</td>\n",
       "      <td>16274.475067</td>\n",
       "    </tr>\n",
       "    <tr>\n",
       "      <th>9</th>\n",
       "      <td>20.0</td>\n",
       "      <td>0.176681</td>\n",
       "      <td>158477.681503</td>\n",
       "      <td>15847.768150</td>\n",
       "    </tr>\n",
       "  </tbody>\n",
       "</table>\n",
       "</div>"
      ],
      "text/plain": [
       "   Numero de procesadores    Tiempo      Velocidad             b\n",
       "0                     2.0  0.095600   29288.831604  29288.831604\n",
       "1                     4.0  0.119265   46954.123725  23477.061862\n",
       "2                     6.0  0.152188   55194.792608  18398.264203\n",
       "3                     8.0  0.137144   81665.694334  20416.423584\n",
       "4                    10.0  0.167242   83710.884370  16742.176874\n",
       "5                    12.0  0.156135  107599.117200  17933.186200\n",
       "6                    14.0  0.167138  117268.203690  16752.600527\n",
       "7                    16.0  0.171457  130644.620387  16330.577548\n",
       "8                    18.0  0.172049  146470.275601  16274.475067\n",
       "9                    20.0  0.176681  158477.681503  15847.768150"
      ]
     },
     "execution_count": 9,
     "metadata": {},
     "output_type": "execute_result"
    }
   ],
   "source": [
    "megabits = 350 * 8\n",
    "dfProm[\"Velocidad\"] = (megabits*dfProm[\"Numero de procesadores\"]/2) / dfProm[\"Tiempo\"]\n",
    "dfProm[\"b\"] = dfProm[\"Velocidad\"] * (2/dfProm[\"Numero de procesadores\"])\n",
    "dfProm"
   ]
  },
  {
   "cell_type": "code",
   "execution_count": 10,
   "metadata": {},
   "outputs": [
    {
     "data": {
      "image/png": "[encoded data removed]",
      "text/plain": [
       "<Figure size 640x480 with 1 Axes>"
      ]
     },
     "metadata": {},
     "output_type": "display_data"
    }
   ],
   "source": [
    "import matplotlib.pyplot as plt\n",
    "\n",
    "plt.xlabel(\"Numero de procesadores\")\n",
    "plt.ylabel(\"Ancho de bisección\")\n",
    "plt.plot(dfProm[\"Numero de procesadores\"], dfProm[\"Velocidad\"])\n",
    "plt.savefig(\"salida/fig1ej3.png\")\n",
    "plt.show()"
   ]
  },
  {
   "cell_type": "code",
   "execution_count": null,
   "metadata": {},
   "outputs": [],
   "source": []
  }
 ],
 "metadata": {
  "kernelspec": {
   "display_name": "Python 3",
   "language": "python",
   "name": "python3"
  },
  "language_info": {
   "codemirror_mode": {
    "name": "ipython",
    "version": 3
   },
   "file_extension": ".py",
   "mimetype": "text/x-python",
   "name": "python",
   "nbconvert_exporter": "python",
   "pygments_lexer": "ipython3",
   "version": "3.10.12"
  },
  "orig_nbformat": 4
 },
 "nbformat": 4,
 "nbformat_minor": 2
}
