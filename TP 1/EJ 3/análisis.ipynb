{
 "cells": [
  {
   "cell_type": "code",
   "execution_count": 43,
   "metadata": {},
   "outputs": [],
   "source": [
    "import pandas as pd"
   ]
  },
  {
   "cell_type": "code",
   "execution_count": 44,
   "metadata": {},
   "outputs": [],
   "source": [
    "df = pd.read_csv(\"salida.csv\")\n",
    "prom = {}\n",
    "for _, row in df.iterrows():\n",
    "    if not (row[\"Numero de procesadores\"] in prom.keys()):\n",
    "        prom[row[\"Numero de procesadores\"]] = float(row[\"Tiempo\"])\n",
    "    else:\n",
    "        prom[row[\"Numero de procesadores\"]] += float(row[\"Tiempo\"])"
   ]
  },
  {
   "cell_type": "code",
   "execution_count": 45,
   "metadata": {},
   "outputs": [
    {
     "data": {
      "text/plain": [
       "{2.0: 9.559958,\n",
       " 4.0: 11.926534999999998,\n",
       " 6.0: 15.218827,\n",
       " 8.0: 13.714449,\n",
       " 10.0: 16.724229,\n",
       " 12.0: 15.613510999999997,\n",
       " 14.0: 16.713822999999998,\n",
       " 16.0: 17.14575,\n",
       " 18.0: 17.204856000000003,\n",
       " 20.0: 17.668103}"
      ]
     },
     "execution_count": 45,
     "metadata": {},
     "output_type": "execute_result"
    }
   ],
   "source": [
    "prom"
   ]
  },
  {
   "cell_type": "code",
   "execution_count": 46,
   "metadata": {},
   "outputs": [
    {
     "data": {
      "text/html": [
       "<div>\n",
       "<style scoped>\n",
       "    .dataframe tbody tr th:only-of-type {\n",
       "        vertical-align: middle;\n",
       "    }\n",
       "\n",
       "    .dataframe tbody tr th {\n",
       "        vertical-align: top;\n",
       "    }\n",
       "\n",
       "    .dataframe thead th {\n",
       "        text-align: right;\n",
       "    }\n",
       "</style>\n",
       "<table border=\"1\" class=\"dataframe\">\n",
       "  <thead>\n",
       "    <tr style=\"text-align: right;\">\n",
       "      <th></th>\n",
       "      <th>Numero de procesadores</th>\n",
       "      <th>Tiempo</th>\n",
       "    </tr>\n",
       "  </thead>\n",
       "  <tbody>\n",
       "    <tr>\n",
       "      <th>0</th>\n",
       "      <td>2.0</td>\n",
       "      <td>9.559958</td>\n",
       "    </tr>\n",
       "    <tr>\n",
       "      <th>1</th>\n",
       "      <td>4.0</td>\n",
       "      <td>11.926535</td>\n",
       "    </tr>\n",
       "    <tr>\n",
       "      <th>2</th>\n",
       "      <td>6.0</td>\n",
       "      <td>15.218827</td>\n",
       "    </tr>\n",
       "    <tr>\n",
       "      <th>3</th>\n",
       "      <td>8.0</td>\n",
       "      <td>13.714449</td>\n",
       "    </tr>\n",
       "    <tr>\n",
       "      <th>4</th>\n",
       "      <td>10.0</td>\n",
       "      <td>16.724229</td>\n",
       "    </tr>\n",
       "    <tr>\n",
       "      <th>5</th>\n",
       "      <td>12.0</td>\n",
       "      <td>15.613511</td>\n",
       "    </tr>\n",
       "    <tr>\n",
       "      <th>6</th>\n",
       "      <td>14.0</td>\n",
       "      <td>16.713823</td>\n",
       "    </tr>\n",
       "    <tr>\n",
       "      <th>7</th>\n",
       "      <td>16.0</td>\n",
       "      <td>17.145750</td>\n",
       "    </tr>\n",
       "    <tr>\n",
       "      <th>8</th>\n",
       "      <td>18.0</td>\n",
       "      <td>17.204856</td>\n",
       "    </tr>\n",
       "    <tr>\n",
       "      <th>9</th>\n",
       "      <td>20.0</td>\n",
       "      <td>17.668103</td>\n",
       "    </tr>\n",
       "  </tbody>\n",
       "</table>\n",
       "</div>"
      ],
      "text/plain": [
       "   Numero de procesadores     Tiempo\n",
       "0                     2.0   9.559958\n",
       "1                     4.0  11.926535\n",
       "2                     6.0  15.218827\n",
       "3                     8.0  13.714449\n",
       "4                    10.0  16.724229\n",
       "5                    12.0  15.613511\n",
       "6                    14.0  16.713823\n",
       "7                    16.0  17.145750\n",
       "8                    18.0  17.204856\n",
       "9                    20.0  17.668103"
      ]
     },
     "execution_count": 46,
     "metadata": {},
     "output_type": "execute_result"
    }
   ],
   "source": [
    "dfProm = pd.DataFrame(\n",
    "{\"Numero de procesadores\" : prom.keys(),\n",
    "\"Tiempo\" : prom.values()\n",
    "}\n",
    ")\n",
    "dfProm"
   ]
  },
  {
   "cell_type": "code",
   "execution_count": 47,
   "metadata": {},
   "outputs": [
    {
     "data": {
      "text/html": [
       "<div>\n",
       "<style scoped>\n",
       "    .dataframe tbody tr th:only-of-type {\n",
       "        vertical-align: middle;\n",
       "    }\n",
       "\n",
       "    .dataframe tbody tr th {\n",
       "        vertical-align: top;\n",
       "    }\n",
       "\n",
       "    .dataframe thead th {\n",
       "        text-align: right;\n",
       "    }\n",
       "</style>\n",
       "<table border=\"1\" class=\"dataframe\">\n",
       "  <thead>\n",
       "    <tr style=\"text-align: right;\">\n",
       "      <th></th>\n",
       "      <th>Numero de procesadores</th>\n",
       "      <th>Tiempo</th>\n",
       "      <th>Velocidad</th>\n",
       "      <th>b</th>\n",
       "    </tr>\n",
       "  </thead>\n",
       "  <tbody>\n",
       "    <tr>\n",
       "      <th>0</th>\n",
       "      <td>2.0</td>\n",
       "      <td>9.559958</td>\n",
       "      <td>292.888316</td>\n",
       "      <td>292.888316</td>\n",
       "    </tr>\n",
       "    <tr>\n",
       "      <th>1</th>\n",
       "      <td>4.0</td>\n",
       "      <td>11.926535</td>\n",
       "      <td>234.770619</td>\n",
       "      <td>117.385309</td>\n",
       "    </tr>\n",
       "    <tr>\n",
       "      <th>2</th>\n",
       "      <td>6.0</td>\n",
       "      <td>15.218827</td>\n",
       "      <td>183.982642</td>\n",
       "      <td>61.327547</td>\n",
       "    </tr>\n",
       "    <tr>\n",
       "      <th>3</th>\n",
       "      <td>8.0</td>\n",
       "      <td>13.714449</td>\n",
       "      <td>204.164236</td>\n",
       "      <td>51.041059</td>\n",
       "    </tr>\n",
       "    <tr>\n",
       "      <th>4</th>\n",
       "      <td>10.0</td>\n",
       "      <td>16.724229</td>\n",
       "      <td>167.421769</td>\n",
       "      <td>33.484354</td>\n",
       "    </tr>\n",
       "    <tr>\n",
       "      <th>5</th>\n",
       "      <td>12.0</td>\n",
       "      <td>15.613511</td>\n",
       "      <td>179.331862</td>\n",
       "      <td>29.888644</td>\n",
       "    </tr>\n",
       "    <tr>\n",
       "      <th>6</th>\n",
       "      <td>14.0</td>\n",
       "      <td>16.713823</td>\n",
       "      <td>167.526005</td>\n",
       "      <td>23.932286</td>\n",
       "    </tr>\n",
       "    <tr>\n",
       "      <th>7</th>\n",
       "      <td>16.0</td>\n",
       "      <td>17.145750</td>\n",
       "      <td>163.305775</td>\n",
       "      <td>20.413222</td>\n",
       "    </tr>\n",
       "    <tr>\n",
       "      <th>8</th>\n",
       "      <td>18.0</td>\n",
       "      <td>17.204856</td>\n",
       "      <td>162.744751</td>\n",
       "      <td>18.082750</td>\n",
       "    </tr>\n",
       "    <tr>\n",
       "      <th>9</th>\n",
       "      <td>20.0</td>\n",
       "      <td>17.668103</td>\n",
       "      <td>158.477682</td>\n",
       "      <td>15.847768</td>\n",
       "    </tr>\n",
       "  </tbody>\n",
       "</table>\n",
       "</div>"
      ],
      "text/plain": [
       "   Numero de procesadores     Tiempo   Velocidad           b\n",
       "0                     2.0   9.559958  292.888316  292.888316\n",
       "1                     4.0  11.926535  234.770619  117.385309\n",
       "2                     6.0  15.218827  183.982642   61.327547\n",
       "3                     8.0  13.714449  204.164236   51.041059\n",
       "4                    10.0  16.724229  167.421769   33.484354\n",
       "5                    12.0  15.613511  179.331862   29.888644\n",
       "6                    14.0  16.713823  167.526005   23.932286\n",
       "7                    16.0  17.145750  163.305775   20.413222\n",
       "8                    18.0  17.204856  162.744751   18.082750\n",
       "9                    20.0  17.668103  158.477682   15.847768"
      ]
     },
     "execution_count": 47,
     "metadata": {},
     "output_type": "execute_result"
    }
   ],
   "source": [
    "megabits = 350 * 8\n",
    "dfProm[\"Velocidad\"] = megabits / dfProm[\"Tiempo\"]\n",
    "dfProm[\"b\"] = dfProm[\"Velocidad\"] * (2/dfProm[\"Numero de procesadores\"])\n",
    "dfProm"
   ]
  },
  {
   "cell_type": "code",
   "execution_count": 49,
   "metadata": {},
   "outputs": [
    {
     "data": {
      "text/plain": [
       "Text(0, 0.5, 'Ancho de bisección')"
      ]
     },
     "execution_count": 49,
     "metadata": {},
     "output_type": "execute_result"
    },
    {
     "data": {
      "image/png": "[encoded data removed]",
      "text/plain": [
       "<Figure size 640x480 with 1 Axes>"
      ]
     },
     "metadata": {},
     "output_type": "display_data"
    }
   ],
   "source": [
    "import matplotlib.pyplot as plt\n",
    "\n",
    "plt.plot(dfProm[\"Numero de procesadores\"], dfProm[\"b\"])\n",
    "plt.xlabel(\"Numero de procesadores\")\n",
    "plt.ylabel(\"Ancho de bisección\")"
   ]
  },
  {
   "cell_type": "code",
   "execution_count": null,
   "metadata": {},
   "outputs": [],
   "source": []
  }
 ],
 "metadata": {
  "kernelspec": {
   "display_name": "Python 3",
   "language": "python",
   "name": "python3"
  },
  "language_info": {
   "codemirror_mode": {
    "name": "ipython",
    "version": 3
   },
   "file_extension": ".py",
   "mimetype": "text/x-python",
   "name": "python",
   "nbconvert_exporter": "python",
   "pygments_lexer": "ipython3",
   "version": "3.10.12"
  },
  "orig_nbformat": 4
 },
 "nbformat": 4,
 "nbformat_minor": 2
}
