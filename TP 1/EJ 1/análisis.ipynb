{
 "cells": [
  {
   "cell_type": "code",
   "execution_count": 58,
   "metadata": {},
   "outputs": [
    {
     "data": {
      "text/html": [
       "<div>\n",
       "<style scoped>\n",
       "    .dataframe tbody tr th:only-of-type {\n",
       "        vertical-align: middle;\n",
       "    }\n",
       "\n",
       "    .dataframe tbody tr th {\n",
       "        vertical-align: top;\n",
       "    }\n",
       "\n",
       "    .dataframe thead th {\n",
       "        text-align: right;\n",
       "    }\n",
       "</style>\n",
       "<table border=\"1\" class=\"dataframe\">\n",
       "  <thead>\n",
       "    <tr style=\"text-align: right;\">\n",
       "      <th></th>\n",
       "      <th>Tamanio</th>\n",
       "      <th>Tiempo</th>\n",
       "    </tr>\n",
       "  </thead>\n",
       "  <tbody>\n",
       "    <tr>\n",
       "      <th>0</th>\n",
       "      <td>1</td>\n",
       "      <td>0.000023</td>\n",
       "    </tr>\n",
       "    <tr>\n",
       "      <th>1</th>\n",
       "      <td>2</td>\n",
       "      <td>0.000021</td>\n",
       "    </tr>\n",
       "    <tr>\n",
       "      <th>2</th>\n",
       "      <td>4</td>\n",
       "      <td>0.000021</td>\n",
       "    </tr>\n",
       "    <tr>\n",
       "      <th>3</th>\n",
       "      <td>8</td>\n",
       "      <td>0.000022</td>\n",
       "    </tr>\n",
       "    <tr>\n",
       "      <th>4</th>\n",
       "      <td>16</td>\n",
       "      <td>0.000022</td>\n",
       "    </tr>\n",
       "    <tr>\n",
       "      <th>5</th>\n",
       "      <td>32</td>\n",
       "      <td>0.000022</td>\n",
       "    </tr>\n",
       "    <tr>\n",
       "      <th>6</th>\n",
       "      <td>64</td>\n",
       "      <td>0.000022</td>\n",
       "    </tr>\n",
       "    <tr>\n",
       "      <th>7</th>\n",
       "      <td>128</td>\n",
       "      <td>0.000022</td>\n",
       "    </tr>\n",
       "    <tr>\n",
       "      <th>8</th>\n",
       "      <td>256</td>\n",
       "      <td>0.000022</td>\n",
       "    </tr>\n",
       "    <tr>\n",
       "      <th>9</th>\n",
       "      <td>512</td>\n",
       "      <td>0.000022</td>\n",
       "    </tr>\n",
       "    <tr>\n",
       "      <th>10</th>\n",
       "      <td>1024</td>\n",
       "      <td>0.000022</td>\n",
       "    </tr>\n",
       "    <tr>\n",
       "      <th>11</th>\n",
       "      <td>2048</td>\n",
       "      <td>0.000022</td>\n",
       "    </tr>\n",
       "    <tr>\n",
       "      <th>12</th>\n",
       "      <td>4096</td>\n",
       "      <td>0.000022</td>\n",
       "    </tr>\n",
       "    <tr>\n",
       "      <th>13</th>\n",
       "      <td>8192</td>\n",
       "      <td>0.000023</td>\n",
       "    </tr>\n",
       "    <tr>\n",
       "      <th>14</th>\n",
       "      <td>16384</td>\n",
       "      <td>0.000024</td>\n",
       "    </tr>\n",
       "    <tr>\n",
       "      <th>15</th>\n",
       "      <td>32768</td>\n",
       "      <td>0.000027</td>\n",
       "    </tr>\n",
       "    <tr>\n",
       "      <th>16</th>\n",
       "      <td>65536</td>\n",
       "      <td>0.000031</td>\n",
       "    </tr>\n",
       "    <tr>\n",
       "      <th>17</th>\n",
       "      <td>131072</td>\n",
       "      <td>0.000039</td>\n",
       "    </tr>\n",
       "    <tr>\n",
       "      <th>18</th>\n",
       "      <td>262144</td>\n",
       "      <td>0.000054</td>\n",
       "    </tr>\n",
       "    <tr>\n",
       "      <th>19</th>\n",
       "      <td>524288</td>\n",
       "      <td>0.000082</td>\n",
       "    </tr>\n",
       "    <tr>\n",
       "      <th>20</th>\n",
       "      <td>1048576</td>\n",
       "      <td>0.000139</td>\n",
       "    </tr>\n",
       "    <tr>\n",
       "      <th>21</th>\n",
       "      <td>2097152</td>\n",
       "      <td>0.000255</td>\n",
       "    </tr>\n",
       "    <tr>\n",
       "      <th>22</th>\n",
       "      <td>4194304</td>\n",
       "      <td>0.000485</td>\n",
       "    </tr>\n",
       "    <tr>\n",
       "      <th>23</th>\n",
       "      <td>8388608</td>\n",
       "      <td>0.000950</td>\n",
       "    </tr>\n",
       "    <tr>\n",
       "      <th>24</th>\n",
       "      <td>16777216</td>\n",
       "      <td>0.001898</td>\n",
       "    </tr>\n",
       "    <tr>\n",
       "      <th>25</th>\n",
       "      <td>33554432</td>\n",
       "      <td>0.003735</td>\n",
       "    </tr>\n",
       "    <tr>\n",
       "      <th>26</th>\n",
       "      <td>67108864</td>\n",
       "      <td>0.007746</td>\n",
       "    </tr>\n",
       "    <tr>\n",
       "      <th>27</th>\n",
       "      <td>134217728</td>\n",
       "      <td>0.015871</td>\n",
       "    </tr>\n",
       "    <tr>\n",
       "      <th>28</th>\n",
       "      <td>268435456</td>\n",
       "      <td>0.029989</td>\n",
       "    </tr>\n",
       "    <tr>\n",
       "      <th>29</th>\n",
       "      <td>536870912</td>\n",
       "      <td>0.061041</td>\n",
       "    </tr>\n",
       "    <tr>\n",
       "      <th>30</th>\n",
       "      <td>1073741824</td>\n",
       "      <td>0.120231</td>\n",
       "    </tr>\n",
       "  </tbody>\n",
       "</table>\n",
       "</div>"
      ],
      "text/plain": [
       "       Tamanio    Tiempo\n",
       "0            1  0.000023\n",
       "1            2  0.000021\n",
       "2            4  0.000021\n",
       "3            8  0.000022\n",
       "4           16  0.000022\n",
       "5           32  0.000022\n",
       "6           64  0.000022\n",
       "7          128  0.000022\n",
       "8          256  0.000022\n",
       "9          512  0.000022\n",
       "10        1024  0.000022\n",
       "11        2048  0.000022\n",
       "12        4096  0.000022\n",
       "13        8192  0.000023\n",
       "14       16384  0.000024\n",
       "15       32768  0.000027\n",
       "16       65536  0.000031\n",
       "17      131072  0.000039\n",
       "18      262144  0.000054\n",
       "19      524288  0.000082\n",
       "20     1048576  0.000139\n",
       "21     2097152  0.000255\n",
       "22     4194304  0.000485\n",
       "23     8388608  0.000950\n",
       "24    16777216  0.001898\n",
       "25    33554432  0.003735\n",
       "26    67108864  0.007746\n",
       "27   134217728  0.015871\n",
       "28   268435456  0.029989\n",
       "29   536870912  0.061041\n",
       "30  1073741824  0.120231"
      ]
     },
     "execution_count": 58,
     "metadata": {},
     "output_type": "execute_result"
    }
   ],
   "source": [
    "import pandas as pd\n",
    "\n",
    "df = pd.read_csv(\"salida.txt\")\n",
    "prom = {}\n",
    "for _, row in df.iterrows():\n",
    "    if not (row[\"Tamanio\"] in prom.keys()):\n",
    "        prom[int(row[\"Tamanio\"])] = float(row[\"Tiempo\"])\n",
    "    else:\n",
    "        prom[int(row[\"Tamanio\"])] += float(row[\"Tiempo\"])\n",
    "\n",
    "dfProm = pd.DataFrame(\n",
    "{\"Tamanio\" : prom.keys(),\n",
    "\"Tiempo\" : prom.values()\n",
    "}\n",
    ")\n",
    "dfProm[\"Tiempo\"] = dfProm[\"Tiempo\"] / (len(df[\"Tamanio\"]/len(dfProm[\"Tamanio\"])))\n",
    "dfProm"
   ]
  },
  {
   "cell_type": "code",
   "execution_count": 59,
   "metadata": {},
   "outputs": [],
   "source": [
    "dfProm[\"Tamanio(bytes)\"] = dfProm[\"Tamanio\"] * 4"
   ]
  },
  {
   "cell_type": "code",
   "execution_count": 60,
   "metadata": {},
   "outputs": [
    {
     "name": "stdout",
     "output_type": "stream",
     "text": [
      "\\begin{tabular}{rrr}\n",
      "\\toprule\n",
      "   Tamanio &   Tiempo &  Tamanio(bytes) \\\\\n",
      "\\midrule\n",
      "         1 & 0.000023 &               4 \\\\\n",
      "         2 & 0.000021 &               8 \\\\\n",
      "         4 & 0.000021 &              16 \\\\\n",
      "         8 & 0.000022 &              32 \\\\\n",
      "        16 & 0.000022 &              64 \\\\\n",
      "        32 & 0.000022 &             128 \\\\\n",
      "        64 & 0.000022 &             256 \\\\\n",
      "       128 & 0.000022 &             512 \\\\\n",
      "       256 & 0.000022 &            1024 \\\\\n",
      "       512 & 0.000022 &            2048 \\\\\n",
      "      1024 & 0.000022 &            4096 \\\\\n",
      "      2048 & 0.000022 &            8192 \\\\\n",
      "      4096 & 0.000022 &           16384 \\\\\n",
      "      8192 & 0.000023 &           32768 \\\\\n",
      "     16384 & 0.000024 &           65536 \\\\\n",
      "     32768 & 0.000027 &          131072 \\\\\n",
      "     65536 & 0.000031 &          262144 \\\\\n",
      "    131072 & 0.000039 &          524288 \\\\\n",
      "    262144 & 0.000054 &         1048576 \\\\\n",
      "    524288 & 0.000082 &         2097152 \\\\\n",
      "   1048576 & 0.000139 &         4194304 \\\\\n",
      "   2097152 & 0.000255 &         8388608 \\\\\n",
      "   4194304 & 0.000485 &        16777216 \\\\\n",
      "   8388608 & 0.000950 &        33554432 \\\\\n",
      "  16777216 & 0.001898 &        67108864 \\\\\n",
      "  33554432 & 0.003735 &       134217728 \\\\\n",
      "  67108864 & 0.007746 &       268435456 \\\\\n",
      " 134217728 & 0.015871 &       536870912 \\\\\n",
      " 268435456 & 0.029989 &      1073741824 \\\\\n",
      " 536870912 & 0.061041 &      2147483648 \\\\\n",
      "1073741824 & 0.120231 &      4294967296 \\\\\n",
      "\\bottomrule\n",
      "\\end{tabular}\n",
      "\n"
     ]
    }
   ],
   "source": [
    "print(dfProm.to_latex(index=False))"
   ]
  },
  {
   "cell_type": "code",
   "execution_count": 61,
   "metadata": {},
   "outputs": [],
   "source": [
    "import matplotlib.pyplot as plt"
   ]
  },
  {
   "cell_type": "code",
   "execution_count": 62,
   "metadata": {},
   "outputs": [
    {
     "data": {
      "image/png": "[encoded data removed]",
      "text/plain": [
       "<Figure size 640x480 with 1 Axes>"
      ]
     },
     "metadata": {},
     "output_type": "display_data"
    }
   ],
   "source": [
    "plt.title(\"Tiempo vs. tamanio\")\n",
    "\n",
    "plt.scatter(dfProm[\"Tamanio(bytes)\"], dfProm[\"Tiempo\"])\n",
    "plt.xlabel(\"Tamaño (bytes)\")\n",
    "plt.ylabel(\"Tiempo (s)\")\n",
    "plt.savefig(\"salida/scatterej1.png\")\n",
    "plt.show()\n"
   ]
  },
  {
   "cell_type": "code",
   "execution_count": 63,
   "metadata": {},
   "outputs": [],
   "source": [
    "from sklearn.linear_model import LinearRegression"
   ]
  },
  {
   "cell_type": "code",
   "execution_count": 64,
   "metadata": {},
   "outputs": [
    {
     "data": {
      "text/html": [
       "<style>#sk-container-id-6 {color: black;background-color: white;}#sk-container-id-6 pre{padding: 0;}#sk-container-id-6 div.sk-toggleable {background-color: white;}#sk-container-id-6 label.sk-toggleable__label {cursor: pointer;display: block;width: 100%;margin-bottom: 0;padding: 0.3em;box-sizing: border-box;text-align: center;}#sk-container-id-6 label.sk-toggleable__label-arrow:before {content: \"▸\";float: left;margin-right: 0.25em;color: #696969;}#sk-container-id-6 label.sk-toggleable__label-arrow:hover:before {color: black;}#sk-container-id-6 div.sk-estimator:hover label.sk-toggleable__label-arrow:before {color: black;}#sk-container-id-6 div.sk-toggleable__content {max-height: 0;max-width: 0;overflow: hidden;text-align: left;background-color: #f0f8ff;}#sk-container-id-6 div.sk-toggleable__content pre {margin: 0.2em;color: black;border-radius: 0.25em;background-color: #f0f8ff;}#sk-container-id-6 input.sk-toggleable__control:checked~div.sk-toggleable__content {max-height: 200px;max-width: 100%;overflow: auto;}#sk-container-id-6 input.sk-toggleable__control:checked~label.sk-toggleable__label-arrow:before {content: \"▾\";}#sk-container-id-6 div.sk-estimator input.sk-toggleable__control:checked~label.sk-toggleable__label {background-color: #d4ebff;}#sk-container-id-6 div.sk-label input.sk-toggleable__control:checked~label.sk-toggleable__label {background-color: #d4ebff;}#sk-container-id-6 input.sk-hidden--visually {border: 0;clip: rect(1px 1px 1px 1px);clip: rect(1px, 1px, 1px, 1px);height: 1px;margin: -1px;overflow: hidden;padding: 0;position: absolute;width: 1px;}#sk-container-id-6 div.sk-estimator {font-family: monospace;background-color: #f0f8ff;border: 1px dotted black;border-radius: 0.25em;box-sizing: border-box;margin-bottom: 0.5em;}#sk-container-id-6 div.sk-estimator:hover {background-color: #d4ebff;}#sk-container-id-6 div.sk-parallel-item::after {content: \"\";width: 100%;border-bottom: 1px solid gray;flex-grow: 1;}#sk-container-id-6 div.sk-label:hover label.sk-toggleable__label {background-color: #d4ebff;}#sk-container-id-6 div.sk-serial::before {content: \"\";position: absolute;border-left: 1px solid gray;box-sizing: border-box;top: 0;bottom: 0;left: 50%;z-index: 0;}#sk-container-id-6 div.sk-serial {display: flex;flex-direction: column;align-items: center;background-color: white;padding-right: 0.2em;padding-left: 0.2em;position: relative;}#sk-container-id-6 div.sk-item {position: relative;z-index: 1;}#sk-container-id-6 div.sk-parallel {display: flex;align-items: stretch;justify-content: center;background-color: white;position: relative;}#sk-container-id-6 div.sk-item::before, #sk-container-id-6 div.sk-parallel-item::before {content: \"\";position: absolute;border-left: 1px solid gray;box-sizing: border-box;top: 0;bottom: 0;left: 50%;z-index: -1;}#sk-container-id-6 div.sk-parallel-item {display: flex;flex-direction: column;z-index: 1;position: relative;background-color: white;}#sk-container-id-6 div.sk-parallel-item:first-child::after {align-self: flex-end;width: 50%;}#sk-container-id-6 div.sk-parallel-item:last-child::after {align-self: flex-start;width: 50%;}#sk-container-id-6 div.sk-parallel-item:only-child::after {width: 0;}#sk-container-id-6 div.sk-dashed-wrapped {border: 1px dashed gray;margin: 0 0.4em 0.5em 0.4em;box-sizing: border-box;padding-bottom: 0.4em;background-color: white;}#sk-container-id-6 div.sk-label label {font-family: monospace;font-weight: bold;display: inline-block;line-height: 1.2em;}#sk-container-id-6 div.sk-label-container {text-align: center;}#sk-container-id-6 div.sk-container {/* jupyter's `normalize.less` sets `[hidden] { display: none; }` but bootstrap.min.css set `[hidden] { display: none !important; }` so we also need the `!important` here to be able to override the default hidden behavior on the sphinx rendered scikit-learn.org. See: https://github.com/scikit-learn/scikit-learn/issues/21755 */display: inline-block !important;position: relative;}#sk-container-id-6 div.sk-text-repr-fallback {display: none;}</style><div id=\"sk-container-id-6\" class=\"sk-top-container\"><div class=\"sk-text-repr-fallback\"><pre>LinearRegression()</pre><b>In a Jupyter environment, please rerun this cell to show the HTML representation or trust the notebook. <br />On GitHub, the HTML representation is unable to render, please try loading this page with nbviewer.org.</b></div><div class=\"sk-container\" hidden><div class=\"sk-item\"><div class=\"sk-estimator sk-toggleable\"><input class=\"sk-toggleable__control sk-hidden--visually\" id=\"sk-estimator-id-6\" type=\"checkbox\" checked><label for=\"sk-estimator-id-6\" class=\"sk-toggleable__label sk-toggleable__label-arrow\">LinearRegression</label><div class=\"sk-toggleable__content\"><pre>LinearRegression()</pre></div></div></div></div></div>"
      ],
      "text/plain": [
       "LinearRegression()"
      ]
     },
     "execution_count": 64,
     "metadata": {},
     "output_type": "execute_result"
    }
   ],
   "source": [
    "reg = LinearRegression()\n",
    "\n",
    "x = dfProm[[\"Tamanio(bytes)\"]]\n",
    "y = dfProm[\"Tiempo\"]\n",
    "\n",
    "reg.fit(x, y)"
   ]
  },
  {
   "cell_type": "code",
   "execution_count": 65,
   "metadata": {},
   "outputs": [
    {
     "data": {
      "image/png": "[encoded data removed]",
      "text/plain": [
       "<Figure size 640x480 with 1 Axes>"
      ]
     },
     "metadata": {},
     "output_type": "display_data"
    }
   ],
   "source": [
    "yPred = reg.predict(x)\n",
    "\n",
    "plt.scatter(x, y, color=\"red\", label=\"Promedios obtenidos\")\n",
    "plt.plot(x, yPred, color=\"blue\", label=\"Regresión lineal\")\n",
    "plt.xlabel(\"Tamaño (bytes)\")\n",
    "plt.ylabel(\"Tiempo (s)\")\n",
    "plt.legend()\n",
    "plt.savefig(\"salida/reglinej1.png\")\n",
    "plt.show()"
   ]
  },
  {
   "cell_type": "code",
   "execution_count": 69,
   "metadata": {},
   "outputs": [
    {
     "name": "stdout",
     "output_type": "stream",
     "text": [
      "l:  5.690697517491978e-05 segundos\n"
     ]
    }
   ],
   "source": [
    "print(\"l: \",reg.intercept_, \"segundos\")\n",
    "[Out]\n",
    "l:  5.690697517491978e-05 segundos"
   ]
  },
  {
   "cell_type": "code",
   "execution_count": 67,
   "metadata": {},
   "outputs": [],
   "source": [
    "xs = x[\"Tamanio(bytes)\"].tolist()"
   ]
  },
  {
   "cell_type": "code",
   "execution_count": 68,
   "metadata": {},
   "outputs": [
    {
     "name": "stdout",
     "output_type": "stream",
     "text": [
      "35622346467.56683\n",
      "35622346467.56683\n",
      "35622346467.02941\n",
      "35622346467.02941\n",
      "35622346467.163765\n",
      "35622346467.163765\n",
      "35622346467.13018\n",
      "35622346467.13018\n",
      "35622346467.13857\n",
      "35622346467.13438\n",
      "35622346467.13438\n",
      "35622346467.13543\n",
      "35622346467.1349\n",
      "35622346467.1349\n",
      "35622346467.1349\n",
      "35622346467.13497\n",
      "35622346467.13497\n",
      "35622346467.13493\n",
      "35622346467.13495\n",
      "35622346467.13495\n",
      "35622346467.13495\n",
      "35622346467.13495\n",
      "35622346467.13495\n",
      "35622346467.13495\n",
      "35622346467.13495\n",
      "35622346467.13495\n",
      "35622346467.13495\n",
      "35622346467.13494\n",
      "35622346467.13495\n",
      "35622346467.13495\n",
      "35622346467.13495\n"
     ]
    }
   ],
   "source": [
    "for yp, i in zip(yPred, xs):\n",
    "    yp -= reg.intercept_\n",
    "    b = i/yp\n",
    "    print(b)\n"
   ]
  },
  {
   "cell_type": "code",
   "execution_count": null,
   "metadata": {},
   "outputs": [],
   "source": []
  }
 ],
 "metadata": {
  "kernelspec": {
   "display_name": "Python 3 (ipykernel)",
   "language": "python",
   "name": "python3"
  },
  "language_info": {
   "codemirror_mode": {
    "name": "ipython",
    "version": 3
   },
   "file_extension": ".py",
   "mimetype": "text/x-python",
   "name": "python",
   "nbconvert_exporter": "python",
   "pygments_lexer": "ipython3",
   "version": "3.10.12"
  },
  "orig_nbformat": 4
 },
 "nbformat": 4,
 "nbformat_minor": 2
}
